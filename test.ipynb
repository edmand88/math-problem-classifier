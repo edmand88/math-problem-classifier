{
 "cells": [
  {
   "cell_type": "code",
   "execution_count": null,
   "metadata": {},
   "outputs": [],
   "source": [
    "import numpy as np\n",
    "import pandas as pd\n",
    "import tensorflow as tf\n",
    "import pickle\n",
    "\n",
    "import sklearn.preprocessing as skprep"
   ]
  },
  {
   "cell_type": "code",
   "execution_count": null,
   "metadata": {},
   "outputs": [],
   "source": [
    "modelX = tf.keras.models.load_model('my_checkpointsX')\n",
    "\n",
    "with open('tokenizer3.pkl', 'rb') as file:\n",
    "    loaded_tokenizer3 = pickle.load(file)\n",
    "\n",
    "with open('encoder3.pkl', 'rb') as file:\n",
    "    loaded_encoder3 = pickle.load(file)\n",
    "\n",
    "X_train_pad3_loaded = np.load('X_train_pad3.npy')\n",
    "X_test_pad3_loaded = np.load('X_test_pad3.npy')\n",
    "y_train_encoded3_loaded = np.load('y_train_encoded3.npy')\n",
    "y_test_encoded3_loaded = np.load('y_test_encoded3.npy')\n",
    "y_train_cat3_loaded = np.load('y_train_cat3.npy')\n",
    "y_test_cat3_loaded = np.load('y_test_cat3.npy')"
   ]
  },
  {
   "cell_type": "code",
   "execution_count": null,
   "metadata": {},
   "outputs": [],
   "source": [
    "#Input problem here\n",
    "new_text = [\"Determine the smallest positive integer k for which there are positive integers a, b and c satisfying the three equations k = 6a, k = 7b2 and k = 8c3.\"]\n",
    "\n",
    "new_text_seq = loaded_tokenizer3.texts_to_sequences(new_text)\n",
    "\n",
    "new_text_pad = tf.keras.preprocessing.sequence.pad_sequences(new_text_seq, maxlen=833)\n",
    "\n",
    "prediction = modelX.predict(new_text_pad)\n",
    "\n",
    "predicted_class_index = np.argmax(prediction, axis=1)\n",
    "predicted_class = loaded_encoder3.inverse_transform(predicted_class_index)\n",
    "print(\"Predicted class name:\", predicted_class)"
   ]
  }
 ],
 "metadata": {
  "kernelspec": {
   "display_name": "Python 3",
   "language": "python",
   "name": "python3"
  },
  "language_info": {
   "codemirror_mode": {
    "name": "ipython",
    "version": 3
   },
   "file_extension": ".py",
   "mimetype": "text/x-python",
   "name": "python",
   "nbconvert_exporter": "python",
   "pygments_lexer": "ipython3",
   "version": "3.10.12"
  }
 },
 "nbformat": 4,
 "nbformat_minor": 2
}
